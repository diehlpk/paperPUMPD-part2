{
 "cells": [
  {
   "cell_type": "code",
   "execution_count": 1,
   "id": "38460f73",
   "metadata": {},
   "outputs": [],
   "source": [
    "import csv\n",
    "import matplotlib.pyplot as plt\n",
    "import numpy as np"
   ]
  },
  {
   "cell_type": "code",
   "execution_count": 2,
   "id": "b1e55305",
   "metadata": {},
   "outputs": [],
   "source": [
    "filename=\"case64.csv\"\n",
    "start = 77\n",
    "previous = [0.12215593335889163,0.06440072596237793]"
   ]
  },
  {
   "cell_type": "code",
   "execution_count": 3,
   "id": "ee4c1ee7",
   "metadata": {},
   "outputs": [],
   "source": [
    "data = []\n",
    "with open(filename) as csv_file:\n",
    "    csv_reader = csv.reader(csv_file, delimiter=',')\n",
    "    line_count = 0\n",
    "    for row in csv_reader:\n",
    "        data.append(row)\n",
    "data = np.array(data)        "
   ]
  },
  {
   "cell_type": "code",
   "execution_count": 4,
   "id": "12354177",
   "metadata": {},
   "outputs": [],
   "source": [
    "f = open(\"out.yaml\", \"w\")"
   ]
  },
  {
   "cell_type": "code",
   "execution_count": 5,
   "id": "24a2a933",
   "metadata": {},
   "outputs": [
    {
     "data": {
      "text/plain": [
       "94"
      ]
     },
     "execution_count": 5,
     "metadata": {},
     "output_type": "execute_result"
    }
   ],
   "source": [
    "f.write(\"    Set_\"+str(start+1)+\"\\n\")\n",
    "f.write(\"      Orientation: -1\"+\"\\n\")\n",
    "f.write(\"      Line: [\"+str(previous[0])+\",\"+str(previous[1])+\",\"+str(data[0][0])+\",\"+str(data[0][1])+\"]\\n\")        "
   ]
  },
  {
   "cell_type": "code",
   "execution_count": 6,
   "id": "00dc2931",
   "metadata": {},
   "outputs": [],
   "source": [
    "for i in range(1,len(data)):\n",
    "    f.write(\"    Set_\"+str(start+1+i)+\":\\n\")\n",
    "    f.write(\"      Orientation: -1\"+\"\\n\")\n",
    "    f.write(\"      Line: [\"+str(data[i-1][0])+\",\"+str(data[i-1][1])+\",\"+str(data[i][0])+\",\"+str(data[i][1])+\"]\\n\")    "
   ]
  },
  {
   "cell_type": "code",
   "execution_count": 7,
   "id": "71237466",
   "metadata": {},
   "outputs": [],
   "source": [
    "f.close()"
   ]
  },
  {
   "cell_type": "code",
   "execution_count": null,
   "id": "07f1ede2",
   "metadata": {},
   "outputs": [],
   "source": []
  }
 ],
 "metadata": {
  "kernelspec": {
   "display_name": "Python 3 (ipykernel)",
   "language": "python",
   "name": "python3"
  },
  "language_info": {
   "codemirror_mode": {
    "name": "ipython",
    "version": 3
   },
   "file_extension": ".py",
   "mimetype": "text/x-python",
   "name": "python",
   "nbconvert_exporter": "python",
   "pygments_lexer": "ipython3",
   "version": "3.11.3"
  }
 },
 "nbformat": 4,
 "nbformat_minor": 5
}
