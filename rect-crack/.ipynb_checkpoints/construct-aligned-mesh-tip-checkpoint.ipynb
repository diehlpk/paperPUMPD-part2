{
 "cells": [
  {
   "cell_type": "code",
   "execution_count": 1,
   "id": "8da1514f",
   "metadata": {},
   "outputs": [],
   "source": [
    "import numpy as np"
   ]
  },
  {
   "cell_type": "code",
   "execution_count": 2,
   "id": "73120c56",
   "metadata": {},
   "outputs": [],
   "source": [
    "import matplotlib.pyplot as plt"
   ]
  },
  {
   "cell_type": "code",
   "execution_count": 3,
   "id": "4d689963",
   "metadata": {},
   "outputs": [],
   "source": [
    "import vtk"
   ]
  },
  {
   "cell_type": "code",
   "execution_count": 4,
   "id": "93feba87",
   "metadata": {},
   "outputs": [],
   "source": [
    "yhalf = 0.04/2\n",
    "xcrack = 0.04\n",
    "ycrack = 0.04\n",
    "n = 64"
   ]
  },
  {
   "cell_type": "code",
   "execution_count": 5,
   "id": "3ebb57b0",
   "metadata": {},
   "outputs": [],
   "source": [
    "xarea = np.array([0,0.1,0.1,0,0])\n",
    "yarea = np.array([0,0,0.1,0.1,0])"
   ]
  },
  {
   "cell_type": "code",
   "execution_count": 6,
   "id": "88b15b0a",
   "metadata": {},
   "outputs": [],
   "source": [
    "xareaPD = np.array([0.049,0.1,0.1,0.049,0.049])\n",
    "yareaPD = np.array([0.03,0.03,0.07,0.07,0.03])"
   ]
  },
  {
   "cell_type": "code",
   "execution_count": 7,
   "id": "cdfb0e45",
   "metadata": {},
   "outputs": [
    {
     "data": {
      "text/plain": [
       "0.00031005859375"
      ]
     },
     "execution_count": 7,
     "metadata": {},
     "output_type": "execute_result"
    }
   ],
   "source": [
    "hy = yhalf/n\n",
    "h = (yhalf-hy/2) / n\n",
    "h "
   ]
  },
  {
   "cell_type": "code",
   "execution_count": 8,
   "id": "66125735",
   "metadata": {},
   "outputs": [
    {
     "data": {
      "text/plain": [
       "0.001240234375"
      ]
     },
     "execution_count": 8,
     "metadata": {},
     "output_type": "execute_result"
    }
   ],
   "source": [
    "delta = 4 * h\n",
    "delta"
   ]
  },
  {
   "cell_type": "code",
   "execution_count": 9,
   "id": "7b04349a",
   "metadata": {},
   "outputs": [],
   "source": [
    "x = []\n",
    "y = []\n",
    "volume = []\n",
    "for j in range(0,int(ycrack/h)+1):\n",
    "    for i in range(0,int(0.051/h)):\n",
    "        x.append(0.049+i*h)\n",
    "        y.append(0.03+j*h)\n",
    "        if i == 0 or i == int(0.051/h)-1 or j == 0 or j == int(ycrack/h) :\n",
    "            volume.append(h*h/2)\n",
    "        else:\n",
    "            volume.append(h*h)\n",
    "        \n",
    "    "
   ]
  },
  {
   "cell_type": "code",
   "execution_count": 10,
   "id": "9595274d",
   "metadata": {},
   "outputs": [
    {
     "data": {
      "text/plain": [
       "<matplotlib.collections.PathCollection at 0x1633338e0>"
      ]
     },
     "execution_count": 10,
     "metadata": {},
     "output_type": "execute_result"
    },
    {
     "data": {
      "image/png": "[encoded data removed]",
      "text/plain": [
       "<Figure size 432x288 with 1 Axes>"
      ]
     },
     "metadata": {
      "needs_background": "light"
     },
     "output_type": "display_data"
    }
   ],
   "source": [
    "plt.plot(xareaPD,yareaPD)\n",
    "plt.plot([0.,0.05],[0.05,0.05])\n",
    "plt.scatter(x,y,c=volume)"
   ]
  },
  {
   "cell_type": "code",
   "execution_count": 11,
   "id": "80641e77",
   "metadata": {},
   "outputs": [
    {
     "data": {
      "text/plain": [
       "0.049"
      ]
     },
     "execution_count": 11,
     "metadata": {},
     "output_type": "execute_result"
    }
   ],
   "source": [
    "min(x)"
   ]
  },
  {
   "cell_type": "code",
   "execution_count": 12,
   "id": "2b6bac6d",
   "metadata": {},
   "outputs": [
    {
     "data": {
      "text/plain": [
       "0.03"
      ]
     },
     "execution_count": 12,
     "metadata": {},
     "output_type": "execute_result"
    }
   ],
   "source": [
    "min(y)"
   ]
  },
  {
   "cell_type": "code",
   "execution_count": 13,
   "id": "04fe0e0c",
   "metadata": {},
   "outputs": [
    {
     "data": {
      "text/plain": [
       "0.09953955078125"
      ]
     },
     "execution_count": 13,
     "metadata": {},
     "output_type": "execute_result"
    }
   ],
   "source": [
    "max(x)"
   ]
  },
  {
   "cell_type": "code",
   "execution_count": 14,
   "id": "02562403",
   "metadata": {},
   "outputs": [
    {
     "data": {
      "text/plain": [
       "0.06999755859375001"
      ]
     },
     "execution_count": 14,
     "metadata": {},
     "output_type": "execute_result"
    }
   ],
   "source": [
    "max(y)"
   ]
  },
  {
   "cell_type": "code",
   "execution_count": 15,
   "id": "7694973d",
   "metadata": {
    "scrolled": true
   },
   "outputs": [
    {
     "data": {
      "text/plain": [
       "<matplotlib.collections.PathCollection at 0x163415160>"
      ]
     },
     "execution_count": 15,
     "metadata": {},
     "output_type": "execute_result"
    },
    {
     "data": {
      "image/png": "[encoded data removed]",
      "text/plain": [
       "<Figure size 432x288 with 1 Axes>"
      ]
     },
     "metadata": {
      "needs_background": "light"
     },
     "output_type": "display_data"
    }
   ],
   "source": [
    "plt.plot(xarea,yarea)\n",
    "plt.plot(xareaPD,yareaPD)\n",
    "plt.plot([0.0,0.05],[0.05,0.05])\n",
    "plt.scatter(x,y)"
   ]
  },
  {
   "cell_type": "code",
   "execution_count": 16,
   "id": "11dd4b38",
   "metadata": {},
   "outputs": [
    {
     "data": {
      "text/plain": [
       "1"
      ]
     },
     "execution_count": 16,
     "metadata": {},
     "output_type": "execute_result"
    }
   ],
   "source": [
    "writer = vtk.vtkXMLUnstructuredGridWriter()\n",
    "writer.SetFileName(\"coupling_\"+str(n)+\"-tip.vtu\")\n",
    "grid = vtk.vtkUnstructuredGrid()\n",
    "points = vtk.vtkPoints()\n",
    "points.SetNumberOfPoints(len(x))\n",
    "points.SetDataTypeToDouble()\n",
    "\n",
    "for i in range(0,len(x)):\n",
    "    points.InsertPoint(i,x[i],y[i],0.)\n",
    "    \n",
    "grid.SetPoints(points)\n",
    "\n",
    "\n",
    "dataOut = grid.GetPointData()\n",
    "array = vtk.vtkDoubleArray()\n",
    "array.SetName(\"Volumes\")\n",
    "array.SetNumberOfComponents(1)\n",
    "array.SetNumberOfTuples(len(x))\n",
    "\n",
    "for i in range(0,len(x)):\n",
    "    array.SetTuple1(i,volume[i])\n",
    "dataOut.AddArray(array)\n",
    "\n",
    "\n",
    "writer.SetInputData(grid)\n",
    "writer.GetCompressor().SetCompressionLevel(0)\n",
    "writer.SetDataModeToAscii()\n",
    "writer.Write()"
   ]
  },
  {
   "cell_type": "code",
   "execution_count": 17,
   "id": "56a03b25",
   "metadata": {},
   "outputs": [
    {
     "name": "stdout",
     "output_type": "stream",
     "text": [
      "construct-aligned-mesh-tip.ipynb\n",
      "construct-aligned-mesh.ipynb\n",
      "coupling_16-tip.vtk\n",
      "coupling_16-tip.vtu\n",
      "coupling_16.vtk\n",
      "coupling_16.vtu\n",
      "coupling_32-tip.vtk\n",
      "coupling_32-tip.vtu\n",
      "coupling_32.vtk\n",
      "coupling_32.vtu\n",
      "coupling_64-tip.vtu\n",
      "coupling_64.vtk\n",
      "coupling_64.vtu\n"
     ]
    }
   ],
   "source": [
    "%%bash \n",
    "ls"
   ]
  },
  {
   "cell_type": "code",
   "execution_count": 18,
   "id": "696b7949",
   "metadata": {},
   "outputs": [],
   "source": [
    "import meshio"
   ]
  },
  {
   "cell_type": "code",
   "execution_count": 19,
   "id": "d01aa250",
   "metadata": {},
   "outputs": [],
   "source": [
    "points = []\n",
    "cells = []\n",
    "for i in range(0,len(x)):\n",
    "    points.append([x[i],y[i],0])\n",
    "    cells.append((\"vertex\", [[i]]))"
   ]
  },
  {
   "cell_type": "code",
   "execution_count": 20,
   "id": "7ec5c333",
   "metadata": {},
   "outputs": [],
   "source": [
    "mesh = meshio.Mesh(\n",
    "    points,\n",
    "    cells,\n",
    "    # Optionally provide extra data on points, cells, etc.\n",
    "    point_data={\"Volume\": volume},\n",
    "    # Each item in cell data must match the cells array\n",
    ")\n",
    "mesh.write(\n",
    "    \"coupling_\"+str(n)+\"-tip.vtk\",  # str, os.PathLike, or buffer/open file\n",
    "    # file_format=\"vtk\",  # optional if first argument is a path; inferred from extension\n",
    ")"
   ]
  },
  {
   "cell_type": "code",
   "execution_count": 21,
   "id": "8099b545",
   "metadata": {},
   "outputs": [
    {
     "name": "stdout",
     "output_type": "stream",
     "text": [
      "construct-aligned-mesh-tip.ipynb\n",
      "construct-aligned-mesh.ipynb\n",
      "coupling_16-tip.vtk\n",
      "coupling_16-tip.vtu\n",
      "coupling_16.vtk\n",
      "coupling_16.vtu\n",
      "coupling_32-tip.vtk\n",
      "coupling_32-tip.vtu\n",
      "coupling_32.vtk\n",
      "coupling_32.vtu\n",
      "coupling_64-tip.vtk\n",
      "coupling_64-tip.vtu\n",
      "coupling_64.vtk\n",
      "coupling_64.vtu\n"
     ]
    }
   ],
   "source": [
    "%%bash \n",
    "ls"
   ]
  },
  {
   "cell_type": "code",
   "execution_count": 22,
   "id": "b4bf0dd4",
   "metadata": {},
   "outputs": [],
   "source": [
    "mesh = meshio.read(\n",
    "    \"coupling_\"+str(n)+\".vtk\",  # string, os.PathLike, or a buffer/open file\n",
    "    # file_format=\"stl\",  # optional if filename is a path; inferred from extension\n",
    "    # see meshio-convert -h for all possible formats\n",
    ")"
   ]
  }
 ],
 "metadata": {
  "kernelspec": {
   "display_name": "Python 3",
   "language": "python",
   "name": "python3"
  },
  "language_info": {
   "codemirror_mode": {
    "name": "ipython",
    "version": 3
   },
   "file_extension": ".py",
   "mimetype": "text/x-python",
   "name": "python",
   "nbconvert_exporter": "python",
   "pygments_lexer": "ipython3",
   "version": "3.9.10"
  }
 },
 "nbformat": 4,
 "nbformat_minor": 5
}
